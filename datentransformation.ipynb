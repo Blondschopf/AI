{
 "cells": [
  {
   "cell_type": "markdown",
   "metadata": {},
   "source": [
    "# Datentransformation Beispiel"
   ]
  },
  {
   "cell_type": "code",
   "execution_count": 7,
   "metadata": {},
   "outputs": [],
   "source": [
    "import numpy as np\n",
    "\n",
    "from sklearn.model_selection import train_test_split # for splitting the data\n",
    "from sklearn.preprocessing import MinMaxScaler\n",
    "from sklearn.preprocessing import Normalizer\n",
    "from sklearn.preprocessing import StandardScaler"
   ]
  },
  {
   "cell_type": "code",
   "execution_count": 2,
   "metadata": {},
   "outputs": [],
   "source": [
    "x, y = np.arange(-8,8).reshape((8,2)), range(8)"
   ]
  },
  {
   "cell_type": "code",
   "execution_count": 14,
   "metadata": {},
   "outputs": [
    {
     "data": {
      "text/plain": [
       "array([[-8, -7],\n",
       "       [-6, -5],\n",
       "       [-4, -3],\n",
       "       [-2, -1],\n",
       "       [ 0,  1],\n",
       "       [ 2,  3],\n",
       "       [ 4,  5],\n",
       "       [ 6,  7]])"
      ]
     },
     "execution_count": 14,
     "metadata": {},
     "output_type": "execute_result"
    }
   ],
   "source": [
    "x"
   ]
  },
  {
   "cell_type": "code",
   "execution_count": 32,
   "metadata": {},
   "outputs": [],
   "source": [
    "# Splitting Train and test-data\n",
    "X_train, X_test, y_train, y_test = train_test_split(x, y, test_size=0.2)\n"
   ]
  },
  {
   "cell_type": "code",
   "execution_count": 33,
   "metadata": {},
   "outputs": [
    {
     "data": {
      "text/plain": [
       "array([[ 0,  1],\n",
       "       [-2, -1],\n",
       "       [-4, -3],\n",
       "       [ 6,  7],\n",
       "       [ 4,  5],\n",
       "       [-8, -7]])"
      ]
     },
     "execution_count": 33,
     "metadata": {},
     "output_type": "execute_result"
    }
   ],
   "source": [
    "X_train"
   ]
  },
  {
   "cell_type": "markdown",
   "metadata": {},
   "source": [
    "### Min Max Scaler"
   ]
  },
  {
   "cell_type": "code",
   "execution_count": 35,
   "metadata": {},
   "outputs": [
    {
     "name": "stdout",
     "output_type": "stream",
     "text": [
      "[[0.57142857 0.57142857]\n",
      " [0.42857143 0.42857143]\n",
      " [0.28571429 0.28571429]\n",
      " [1.         1.        ]\n",
      " [0.85714286 0.85714286]\n",
      " [0.         0.        ]]\n",
      "[[0.14285714 0.14285714]\n",
      " [0.71428571 0.71428571]]\n"
     ]
    }
   ],
   "source": [
    "# Lösung vom Adro ist bullshit, weil Werte größer 1 und kleiner 0 beim min-max rauskommen können\n",
    "minmax_scale = MinMaxScaler()\n",
    "minmax_scale.fit(X_train)\n",
    "X_train_scaled = minmax_scale.transform(X_train)\n",
    "print(X_train_scaled)\n",
    "X_test_scaled = minmax_scale.transform(X_test)\n",
    "print(X_test_scaled)"
   ]
  },
  {
   "cell_type": "code",
   "execution_count": null,
   "metadata": {},
   "outputs": [],
   "source": []
  }
 ],
 "metadata": {
  "kernelspec": {
   "display_name": "Python 3.8.8 ('.venv': venv)",
   "language": "python",
   "name": "python3"
  },
  "language_info": {
   "codemirror_mode": {
    "name": "ipython",
    "version": 3
   },
   "file_extension": ".py",
   "mimetype": "text/x-python",
   "name": "python",
   "nbconvert_exporter": "python",
   "pygments_lexer": "ipython3",
   "version": "3.8.8"
  },
  "orig_nbformat": 4,
  "vscode": {
   "interpreter": {
    "hash": "aba3ed7012d2edd5d25dea730c06d3b7d85ae3d9d9b410c294e160e661601804"
   }
  }
 },
 "nbformat": 4,
 "nbformat_minor": 2
}
