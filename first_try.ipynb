{
 "cells": [
  {
   "cell_type": "code",
   "execution_count": 1,
   "metadata": {},
   "outputs": [],
   "source": [
    "import tensorflow as tf\n",
    "from tensorflow import keras\n",
    "from keras.models import Sequential\n",
    "from keras.layers import Dense, Flatten\n",
    "\n",
    "import numpy as np\n",
    "import pandas as pd\n",
    "import matplotlib.pyplot as plt\n",
    "from sklearn.metrics import confusion_matrix"
   ]
  },
  {
   "cell_type": "markdown",
   "metadata": {},
   "source": [
    "# Import Data"
   ]
  },
  {
   "cell_type": "markdown",
   "metadata": {},
   "source": [
    "Attribute Information:\n",
    "\n",
    "Each row of the dataset is a single game with the following features (in the order in the vector):\n",
    "- 0: Team won the game (1 or -1)\n",
    "- 1: Cluster ID (related to location)\n",
    "- 2: Game mode (eg All Pick)\n",
    "- 3: Game type (eg. Ranked)\n",
    "- 4-end: Each element is an indicator for a hero. Value of 1 indicates that a player from team '1' played as that hero and '-1' for the other team. Hero can be selected by only one player each game. This means that each row has five '1' and five '-1' values.\n"
   ]
  },
  {
   "cell_type": "code",
   "execution_count": 2,
   "metadata": {},
   "outputs": [
    {
     "name": "stdout",
     "output_type": "stream",
     "text": [
      "   0    1    2    3    4    5    6    7    8    9    ...  107  108  109  110  \\\n",
      "0   -1  223    2    2    0    0    0    0    0    0  ...    0    0    0    0   \n",
      "1    1  152    2    2    0    0    0    1    0   -1  ...    0    0    0    0   \n",
      "2    1  131    2    2    0    0    0    1    0   -1  ...    0    0    0    0   \n",
      "3    1  154    2    2    0    0    0    0    0    0  ...   -1    0    0    0   \n",
      "4   -1  171    2    3    0    0    0    0    0   -1  ...    0    0    0    0   \n",
      "\n",
      "   111  112  113  114  115  116  \n",
      "0    0    0    0    0    0    0  \n",
      "1    0    0    0    0    0    0  \n",
      "2    0    0    0    0    0    0  \n",
      "3    0    0    0    0    0    0  \n",
      "4    0    0    0    0    0    0  \n",
      "\n",
      "[5 rows x 117 columns]\n",
      "   0    1    2    3    4    5    6    7    8    9    ...  107  108  109  110  \\\n",
      "0   -1  223    8    2    0   -1    0    0    0    0  ...   -1    0    0    0   \n",
      "1    1  227    8    2    0    0    0    0    0    0  ...   -1    0    0    0   \n",
      "2   -1  136    2    2    1    0    0    0   -1    0  ...    0    0    0    0   \n",
      "3    1  227    2    2   -1    0    0    0    0    0  ...    0    0    0    0   \n",
      "4    1  184    2    3    0    0    0   -1    0    0  ...    0    0    0    0   \n",
      "\n",
      "   111  112  113  114  115  116  \n",
      "0    0    0    0    0    0    0  \n",
      "1    0    0    0    0    0    0  \n",
      "2    0    0    0    0    0    0  \n",
      "3    0    0    0    0    0    0  \n",
      "4    0    0    0    0    0    0  \n",
      "\n",
      "[5 rows x 117 columns]\n"
     ]
    }
   ],
   "source": [
    "dota2df_train = pd.read_csv('..\\dota2Dataset\\dota2Train.csv', header=None)\n",
    "print(dota2df_train.head())\n",
    "dota2df_test = pd.read_csv('..\\dota2Dataset\\dota2Test.csv', header=None)\n",
    "print(dota2df_test.head())"
   ]
  },
  {
   "cell_type": "markdown",
   "metadata": {},
   "source": [
    "# Data Analyzing"
   ]
  },
  {
   "cell_type": "code",
   "execution_count": 3,
   "metadata": {},
   "outputs": [
    {
     "data": {
      "text/plain": [
       "0      int64\n",
       "1      int64\n",
       "2      int64\n",
       "3      int64\n",
       "4      int64\n",
       "       ...  \n",
       "112    int64\n",
       "113    int64\n",
       "114    int64\n",
       "115    int64\n",
       "116    int64\n",
       "Length: 117, dtype: object"
      ]
     },
     "execution_count": 3,
     "metadata": {},
     "output_type": "execute_result"
    }
   ],
   "source": [
    "dota2df_train.dtypes"
   ]
  },
  {
   "cell_type": "code",
   "execution_count": 4,
   "metadata": {},
   "outputs": [
    {
     "data": {
      "text/plain": [
       "0      int64\n",
       "1      int64\n",
       "2      int64\n",
       "3      int64\n",
       "4      int64\n",
       "       ...  \n",
       "112    int64\n",
       "113    int64\n",
       "114    int64\n",
       "115    int64\n",
       "116    int64\n",
       "Length: 117, dtype: object"
      ]
     },
     "execution_count": 4,
     "metadata": {},
     "output_type": "execute_result"
    }
   ],
   "source": [
    "dota2df_test.dtypes"
   ]
  },
  {
   "cell_type": "code",
   "execution_count": 5,
   "metadata": {},
   "outputs": [
    {
     "data": {
      "text/plain": [
       "0      0\n",
       "1      0\n",
       "2      0\n",
       "3      0\n",
       "4      0\n",
       "      ..\n",
       "112    0\n",
       "113    0\n",
       "114    0\n",
       "115    0\n",
       "116    0\n",
       "Length: 117, dtype: int64"
      ]
     },
     "execution_count": 5,
     "metadata": {},
     "output_type": "execute_result"
    }
   ],
   "source": [
    "dota2df_train.isnull().sum()"
   ]
  },
  {
   "cell_type": "code",
   "execution_count": 6,
   "metadata": {},
   "outputs": [
    {
     "data": {
      "text/plain": [
       "0      0\n",
       "1      0\n",
       "2      0\n",
       "3      0\n",
       "4      0\n",
       "      ..\n",
       "112    0\n",
       "113    0\n",
       "114    0\n",
       "115    0\n",
       "116    0\n",
       "Length: 117, dtype: int64"
      ]
     },
     "execution_count": 6,
     "metadata": {},
     "output_type": "execute_result"
    }
   ],
   "source": [
    "dota2df_test.isnull().sum()"
   ]
  },
  {
   "cell_type": "markdown",
   "metadata": {},
   "source": [
    "## deleting second column(cluster ID) => no value"
   ]
  },
  {
   "cell_type": "code",
   "execution_count": 7,
   "metadata": {},
   "outputs": [],
   "source": [
    "dota2df_train = dota2df_train.drop(1, axis=1).reindex(axis=1)"
   ]
  },
  {
   "cell_type": "code",
   "execution_count": 8,
   "metadata": {},
   "outputs": [],
   "source": [
    "dota2df_test = dota2df_test.drop(1, axis=1).reindex(axis=1)"
   ]
  },
  {
   "cell_type": "markdown",
   "metadata": {},
   "source": [
    "## slicing first row as result column"
   ]
  },
  {
   "cell_type": "code",
   "execution_count": 9,
   "metadata": {},
   "outputs": [
    {
     "data": {
      "text/plain": [
       "(92650,)"
      ]
     },
     "execution_count": 9,
     "metadata": {},
     "output_type": "execute_result"
    }
   ],
   "source": [
    "dota2df_train_array = dota2df_train.to_numpy()\n",
    "y_train = dota2df_train_array[:,0]\n",
    "y_train.shape"
   ]
  },
  {
   "cell_type": "code",
   "execution_count": 10,
   "metadata": {},
   "outputs": [
    {
     "data": {
      "text/plain": [
       "(92650, 115)"
      ]
     },
     "execution_count": 10,
     "metadata": {},
     "output_type": "execute_result"
    }
   ],
   "source": [
    "X_train = dota2df_train_array[:,1:]\n",
    "X_train.shape"
   ]
  },
  {
   "cell_type": "code",
   "execution_count": 11,
   "metadata": {},
   "outputs": [
    {
     "data": {
      "text/plain": [
       "array([-1,  1, -1, ...,  1,  1, -1], dtype=int64)"
      ]
     },
     "execution_count": 11,
     "metadata": {},
     "output_type": "execute_result"
    }
   ],
   "source": [
    "dota2df_test_array = dota2df_test.to_numpy()\n",
    "y_test = dota2df_test_array[:,0]\n",
    "y_test"
   ]
  },
  {
   "cell_type": "code",
   "execution_count": 12,
   "metadata": {},
   "outputs": [
    {
     "data": {
      "text/plain": [
       "(10294, 115)"
      ]
     },
     "execution_count": 12,
     "metadata": {},
     "output_type": "execute_result"
    }
   ],
   "source": [
    "X_test = dota2df_test_array[:,1:]\n",
    "X_test.shape"
   ]
  },
  {
   "cell_type": "markdown",
   "metadata": {},
   "source": [
    "# Creating a neural net architecture"
   ]
  },
  {
   "cell_type": "code",
   "execution_count": 13,
   "metadata": {},
   "outputs": [],
   "source": [
    "model = tf.keras.models.Sequential()"
   ]
  },
  {
   "cell_type": "code",
   "execution_count": 14,
   "metadata": {},
   "outputs": [],
   "source": [
    "input_shape = (115,)\n",
    "\n",
    "model.add(Dense(300, input_shape=input_shape, activation='relu'))"
   ]
  },
  {
   "cell_type": "code",
   "execution_count": 15,
   "metadata": {},
   "outputs": [],
   "source": [
    "model.add(Dense(100,activation=\"relu\"))"
   ]
  },
  {
   "cell_type": "code",
   "execution_count": 16,
   "metadata": {},
   "outputs": [],
   "source": [
    "model.add(Dense(1,activation=\"sigmoid\"))"
   ]
  },
  {
   "cell_type": "code",
   "execution_count": 17,
   "metadata": {},
   "outputs": [
    {
     "name": "stdout",
     "output_type": "stream",
     "text": [
      "Model: \"sequential\"\n",
      "_________________________________________________________________\n",
      " Layer (type)                Output Shape              Param #   \n",
      "=================================================================\n",
      " dense (Dense)               (None, 300)               34800     \n",
      "                                                                 \n",
      " dense_1 (Dense)             (None, 100)               30100     \n",
      "                                                                 \n",
      " dense_2 (Dense)             (None, 1)                 101       \n",
      "                                                                 \n",
      "=================================================================\n",
      "Total params: 65,001\n",
      "Trainable params: 65,001\n",
      "Non-trainable params: 0\n",
      "_________________________________________________________________\n"
     ]
    }
   ],
   "source": [
    "model.summary()"
   ]
  },
  {
   "cell_type": "code",
   "execution_count": 18,
   "metadata": {},
   "outputs": [],
   "source": [
    "model.compile(loss=\"binary_crossentropy\", optimizer=\"sgd\", metrics=['accuracy'])"
   ]
  },
  {
   "cell_type": "markdown",
   "metadata": {},
   "source": [
    "# Training the model"
   ]
  },
  {
   "cell_type": "code",
   "execution_count": 19,
   "metadata": {},
   "outputs": [
    {
     "name": "stdout",
     "output_type": "stream",
     "text": [
      "Epoch 1/25\n",
      "1448/1448 [==============================] - 3s 2ms/step - loss: 0.0447 - accuracy: 0.0051\n",
      "Epoch 2/25\n",
      "1448/1448 [==============================] - 3s 2ms/step - loss: 1867010.1250 - accuracy: 0.0367\n",
      "Epoch 3/25\n",
      "1448/1448 [==============================] - 3s 2ms/step - loss: 1.4709 - accuracy: 3.2380e-04\n",
      "Epoch 4/25\n",
      "1448/1448 [==============================] - 3s 2ms/step - loss: 0.2120 - accuracy: 0.0000e+00\n",
      "Epoch 5/25\n",
      "1448/1448 [==============================] - 3s 2ms/step - loss: 0.3044 - accuracy: 3.7777e-04\n",
      "Epoch 6/25\n",
      "1448/1448 [==============================] - 3s 2ms/step - loss: 0.2075 - accuracy: 0.0000e+00\n",
      "Epoch 7/25\n",
      "1448/1448 [==============================] - 3s 2ms/step - loss: 0.2075 - accuracy: 0.0000e+00\n",
      "Epoch 8/25\n",
      "1448/1448 [==============================] - 3s 2ms/step - loss: 0.2074 - accuracy: 0.0000e+00\n",
      "Epoch 9/25\n",
      "1448/1448 [==============================] - 3s 2ms/step - loss: 0.2074 - accuracy: 0.0000e+00\n",
      "Epoch 10/25\n",
      "1448/1448 [==============================] - 3s 2ms/step - loss: 0.2074 - accuracy: 0.0000e+00\n",
      "Epoch 11/25\n",
      "1448/1448 [==============================] - 3s 2ms/step - loss: 0.2074 - accuracy: 0.0000e+00\n",
      "Epoch 12/25\n",
      "1448/1448 [==============================] - 3s 2ms/step - loss: 0.2074 - accuracy: 0.0000e+00\n",
      "Epoch 13/25\n",
      "1448/1448 [==============================] - 3s 2ms/step - loss: 0.2074 - accuracy: 0.0000e+00\n",
      "Epoch 14/25\n",
      "1448/1448 [==============================] - 3s 2ms/step - loss: 0.2074 - accuracy: 0.0000e+00\n",
      "Epoch 15/25\n",
      "1448/1448 [==============================] - 3s 2ms/step - loss: 0.2074 - accuracy: 0.0000e+00\n",
      "Epoch 16/25\n",
      "1448/1448 [==============================] - 3s 2ms/step - loss: 0.2074 - accuracy: 0.0000e+00\n",
      "Epoch 17/25\n",
      "1448/1448 [==============================] - 3s 2ms/step - loss: 0.2074 - accuracy: 0.0000e+00\n",
      "Epoch 18/25\n",
      "1448/1448 [==============================] - 3s 2ms/step - loss: 0.2074 - accuracy: 0.0000e+00\n",
      "Epoch 19/25\n",
      "1448/1448 [==============================] - 3s 2ms/step - loss: 0.2074 - accuracy: 0.0000e+00\n",
      "Epoch 20/25\n",
      "1448/1448 [==============================] - 3s 2ms/step - loss: 0.2074 - accuracy: 0.0000e+00\n",
      "Epoch 21/25\n",
      "1448/1448 [==============================] - 3s 2ms/step - loss: 0.2074 - accuracy: 0.0000e+00\n",
      "Epoch 22/25\n",
      "1448/1448 [==============================] - 3s 2ms/step - loss: 0.2074 - accuracy: 0.0000e+00\n",
      "Epoch 23/25\n",
      "1448/1448 [==============================] - 3s 2ms/step - loss: 0.2074 - accuracy: 0.0000e+00\n",
      "Epoch 24/25\n",
      "1448/1448 [==============================] - 3s 2ms/step - loss: 0.2074 - accuracy: 0.0000e+00\n",
      "Epoch 25/25\n",
      "1448/1448 [==============================] - 3s 2ms/step - loss: 0.2074 - accuracy: 0.0000e+00\n"
     ]
    },
    {
     "data": {
      "text/plain": [
       "<keras.callbacks.History at 0x1bc012fdb40>"
      ]
     },
     "execution_count": 19,
     "metadata": {},
     "output_type": "execute_result"
    }
   ],
   "source": [
    "model.fit(X_train,y_train, epochs=25, batch_size=64)"
   ]
  },
  {
   "cell_type": "markdown",
   "metadata": {},
   "source": [
    "# Evaluate the model"
   ]
  },
  {
   "cell_type": "code",
   "execution_count": 20,
   "metadata": {},
   "outputs": [
    {
     "name": "stdout",
     "output_type": "stream",
     "text": [
      "322/322 [==============================] - 1s 1ms/step - loss: 0.2534 - accuracy: 0.0000e+00\n"
     ]
    },
    {
     "data": {
      "text/plain": [
       "[0.25342920422554016, 0.0]"
      ]
     },
     "execution_count": 20,
     "metadata": {},
     "output_type": "execute_result"
    }
   ],
   "source": [
    "model.evaluate(X_test, y_test)"
   ]
  }
 ],
 "metadata": {
  "kernelspec": {
   "display_name": "Python 3.10.0 64-bit",
   "language": "python",
   "name": "python3"
  },
  "language_info": {
   "codemirror_mode": {
    "name": "ipython",
    "version": 3
   },
   "file_extension": ".py",
   "mimetype": "text/x-python",
   "name": "python",
   "nbconvert_exporter": "python",
   "pygments_lexer": "ipython3",
   "version": "3.10.0"
  },
  "orig_nbformat": 4,
  "vscode": {
   "interpreter": {
    "hash": "cfcf893b30c834e77459660183659b067f3f21fdf2a85919e4ac9ef96b7b2952"
   }
  }
 },
 "nbformat": 4,
 "nbformat_minor": 2
}
